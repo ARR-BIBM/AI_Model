{
 "cells": [
  {
   "cell_type": "code",
   "execution_count": null,
   "metadata": {
    "colab": {
     "base_uri": "https://localhost:8080/"
    },
    "executionInfo": {
     "elapsed": 20840,
     "status": "ok",
     "timestamp": 1669825578136,
     "user": {
      "displayName": "Jung Lee",
      "userId": "06037823346470885325"
     },
     "user_tz": -540
    },
    "id": "Bob2tv8Y8yWS",
    "outputId": "be026cc8-22c0-4564-983d-1662e12153ea"
   },
   "outputs": [],
   "source": [
    "from google.colab import drive\n",
    "\n",
    "drive.mount(\"/content/gdrive\")"
   ]
  },
  {
   "cell_type": "code",
   "execution_count": null,
   "metadata": {
    "colab": {
     "base_uri": "https://localhost:8080/"
    },
    "executionInfo": {
     "elapsed": 12057,
     "status": "ok",
     "timestamp": 1668761033284,
     "user": {
      "displayName": "Jung Lee",
      "userId": "06037823346470885325"
     },
     "user_tz": -540
    },
    "id": "WF5uVL865_tD",
    "outputId": "0d30b92e-da44-4847-af12-fe740a3eb57b"
   },
   "outputs": [],
   "source": [
    "#%%bash\n",
    "#cd /content/gdrive/MyDrive\n",
    "#git clone https://github.com/WongKinYiu/yolov7.git\n",
    "#cd yolov7\n",
    "#wget https://raw.githubusercontent.com/WongKinYiu/yolov7/u5/requirements.txt\n",
    "#pip install -r requirements.txt"
   ]
  },
  {
   "cell_type": "code",
   "execution_count": null,
   "metadata": {
    "id": "eX0IJoTV6CV1"
   },
   "outputs": [],
   "source": [
    "#%%bash\n",
    "#wget -P /content/gdrive/MyDrive/yolov7/weights https://github.com/WongKinYiu/yolov7/releases/download/v0.1/yolov7.pt\n",
    "\n",
    "#wget -P /content/gdrive/MyDrive/yolov7/weights https://github.com/WongKinYiu/yolov7/releases/download/v0.1/yolov7x.pt\n",
    "#wget -P /content/gdrive/MyDrive/yolov7/weights https://github.com/WongKinYiu/yolov7/releases/download/v0.1/yolov7-w6.pt\n",
    "#wget -P /content/gdrive/MyDrive/yolov7/weights https://github.com/WongKinYiu/yolov7/releases/download/v0.1/yolov7-e6.pt\n",
    "#wget -P /content/gdrive/MyDrive/yolov7/weights https://github.com/WongKinYiu/yolov7/releases/download/v0.1/yolov7-d6.pt\n",
    "#wget -P /content/gdrive/MyDrive/yolov7/weights https://github.com/WongKinYiu/yolov7/releases/download/v0.1/yolov7-e6e.pt"
   ]
  },
  {
   "cell_type": "code",
   "execution_count": null,
   "metadata": {
    "id": "0TalYk5480De"
   },
   "outputs": [],
   "source": [
    "import albumentations as A\n",
    "from albumentations.pytorch import ToTensorV2\n",
    "import cv2\n",
    "import os\n",
    "from os import listdir\n",
    "import numpy as np\n",
    "from PIL import Image\n",
    "import matplotlib.pyplot as plt\n",
    "import matplotlib.patches as patches\n"
   ]
  },
  {
   "cell_type": "markdown",
   "metadata": {
    "id": "Khl1zxeUpXKK"
   },
   "source": [
    "최종"
   ]
  },
  {
   "cell_type": "code",
   "execution_count": null,
   "metadata": {
    "id": "1CyvAEfbpYBK"
   },
   "outputs": [],
   "source": [
    "train_transform = A.Compose(\n",
    "    [\n",
    "        A.RandomBrightnessContrast(brightness_limit=0.1, contrast_limit=0.1,p = 0.5),\n",
    "        A.RandomGamma(gamma_limit = (90,110)),\n",
    "        A.ShiftScaleRotate(scale_limit = 0.1, rotate_limit = 10, p=0.5, border_mode=cv2.BORDER_CONSTANT),\n",
    "        A.Transpose(),\n",
    "        A.RandomRotate90(),\n",
    "        A.OneOf([A.NoOp(),A.MultiplicativeNoise(),A.GaussNoise(),A.ISONoise()]),\n",
    "        A.OneOf(\n",
    "            [\n",
    "                A.NoOp(p=0.7),\n",
    "                A.HueSaturationValue(hue_shift_limit=10,sat_shift_limit=10),-\n",
    "                A.RGBShift(r_shift_limit=10,g_shift_limit=10,b_shift_limit=10)\n",
    "            ],\n",
    "            p=0.3\n",
    "        )\n",
    "    ], \n",
    "    bbox_params = A.BboxParams(format = \"yolo\", min_visibility = 0.4, label_fields = [],)\n",
    "    ,)"
   ]
  },
  {
   "cell_type": "code",
   "execution_count": null,
   "metadata": {
    "id": "rJ0UGujF173t"
   },
   "outputs": [],
   "source": [
    "#image, label 경로 수정 필요 + image1~8.PNG, image1~8.txt 이름 수정 필요\n",
    "\n",
    "img_path = \"/content/gdrive/MyDrive/yolov7/data/test/images/\"\n",
    "label_path = \"/content/gdrive/MyDrive/yolov7/data/test/labels/\"\n",
    "\n",
    "image1 = cv2.imread(img_path + 'image1.PNG')\n",
    "image1 = cv2.cvtColor(image1, cv2.COLOR_BGR2RGB)\n",
    "bboxes1 = np.loadtxt(fname = label_path + 'image1.txt', delimiter = \" \", ndmin = 2)\n",
    "bboxes1 = np.roll(bboxes1, 4, axis = 1).tolist()\n",
    "\n",
    "image2 = cv2.imread(img_path + 'image2.PNG')\n",
    "image2 = cv2.cvtColor(image2, cv2.COLOR_BGR2RGB)\n",
    "bboxes2 = np.loadtxt(fname = label_path + 'image2.txt', delimiter = \" \", ndmin = 2)\n",
    "bboxes2 = np.roll(bboxes2, 4, axis = 1).tolist()\n",
    "\n",
    "image3 = cv2.imread(img_path + 'image3.PNG')\n",
    "image3 = cv2.cvtColor(image3, cv2.COLOR_BGR2RGB)\n",
    "bboxes3 = np.loadtxt(fname = label_path + 'image3.txt', delimiter = \" \", ndmin = 2)\n",
    "bboxes3 = np.roll(bboxes3, 4, axis = 1).tolist()\n",
    "\n",
    "image4 = cv2.imread(img_path + 'image4.PNG')\n",
    "image4 = cv2.cvtColor(image4, cv2.COLOR_BGR2RGB)\n",
    "bboxes4 = np.loadtxt(fname = label_path + 'image4.txt', delimiter = \" \", ndmin = 2)\n",
    "bboxes4 = np.roll(bboxes4, 4, axis = 1).tolist()\n",
    "\n",
    "image5 = cv2.imread(img_path + 'image5.PNG')\n",
    "image5 = cv2.cvtColor(image5, cv2.COLOR_BGR2RGB)\n",
    "bboxes5 = np.loadtxt(fname = label_path + 'image5.txt', delimiter = \" \", ndmin = 2)\n",
    "bboxes5 = np.roll(bboxes5, 4, axis = 1).tolist()\n",
    "\n",
    "image6 = cv2.imread(img_path + 'image6.PNG')\n",
    "image6 = cv2.cvtColor(image6, cv2.COLOR_BGR2RGB)\n",
    "bboxes6 = np.loadtxt(fname = label_path + 'image6.txt', delimiter = \" \", ndmin = 2)\n",
    "bboxes6 = np.roll(bboxes6, 4, axis = 1).tolist()\n",
    "\n",
    "image7 = cv2.imread(img_path + 'image7.PNG')\n",
    "image7 = cv2.cvtColor(image7, cv2.COLOR_BGR2RGB)\n",
    "bboxes7 = np.loadtxt(fname = label_path + 'image7.txt', delimiter = \" \", ndmin = 2)\n",
    "bboxes7 = np.roll(bboxes7, 4, axis = 1).tolist()\n",
    "\n",
    "image8 = cv2.imread(img_path + 'image8.PNG')\n",
    "image8 = cv2.cvtColor(image8, cv2.COLOR_BGR2RGB)\n",
    "bboxes8 = np.loadtxt(fname = label_path + 'image8.txt', delimiter = \" \", ndmin = 2)\n",
    "bboxes8 = np.roll(bboxes8, 4, axis = 1).tolist()"
   ]
  },
  {
   "cell_type": "code",
   "execution_count": null,
   "metadata": {
    "id": "QPtMz2Ix2n25"
   },
   "outputs": [],
   "source": [
    "#이미지, label 저장 경로 수정 필요\n",
    "\n",
    "def startaug(image, bboxes, train_index, valid_index, num) :\n",
    "  j = 0\n",
    "  for j in range(num):\n",
    "  \n",
    "  #image augmentation 완료\n",
    "    transformed = train_transform(image = image, bboxes = bboxes)\n",
    "    transformed_image = transformed['image']\n",
    "    transformed_bboxes = transformed['bboxes']\n",
    "\n",
    "  #convert RGB to BGR, bounding box 재배치\n",
    "    \n",
    "    transformed_image = cv2.cvtColor(transformed_image, cv2.COLOR_RGB2BGR)\n",
    "    transformed_bboxes = np.roll(transformed_bboxes, 1, axis = 1).tolist()\n",
    "\n",
    "    if(j >= 0.8 * num):\n",
    "      save_img_path1 = \"gdrive/MyDrive/yolov7/data/val/images/\"\n",
    "      idx = j + valid_index - int(0.8*num)\n",
    "    # 이미지 저장\n",
    "      %cd /content\n",
    "      img_name = \"augmented_img\" + str(int(idx)) + \".PNG\"\n",
    "      save_img_path = save_img_path1 + img_name\n",
    "      cv2.imwrite(save_img_path,transformed_image)\n",
    "      # label 저장\n",
    "      %cd \"gdrive/MyDrive/yolov7/data/val/labels\"\n",
    "      text_name = \"augmented_img\" + str(int(idx)) + \".txt\"\n",
    "      with open(text_name,\"w\") as f:\n",
    "        flag = 0\n",
    "        for item in transformed_bboxes[0]:\n",
    "          if flag != 0 :\n",
    "            f.write(' ')\n",
    "            f.write(str(item))\n",
    "          else :\n",
    "            f.write(str(int(item)))\n",
    "          flag = flag + 1\n",
    "        f.write('\\n')\n",
    "      f.close\n",
    "\n",
    "    else :\n",
    "      save_img_path1 = \"gdrive/MyDrive/yolov7/data/train/images/\"\n",
    "      # 이미지 저장\n",
    "      %cd /content\n",
    "      img_name = \"augmented_img\" + str(j + train_index) + \".PNG\"\n",
    "      save_img_path = save_img_path1 + img_name\n",
    "      cv2.imwrite(save_img_path,transformed_image)\n",
    "      # label 저장\n",
    "      %cd \"gdrive/MyDrive/yolov7/data/train/labels\"\n",
    "      text_name = \"augmented_img\" + str(j + train_index) + \".txt\"\n",
    "      with open(text_name,\"w\") as f:\n",
    "        flag = 0\n",
    "        for item in transformed_bboxes[0]:\n",
    "          if flag != 0 :\n",
    "            f.write(' ')\n",
    "            f.write(str(item))\n",
    "          else :\n",
    "            f.write(str(int(item)))\n",
    "          flag = flag + 1\n",
    "        f.write('\\n')\n",
    "      f.close"
   ]
  },
  {
   "cell_type": "code",
   "execution_count": null,
   "metadata": {
    "colab": {
     "base_uri": "https://localhost:8080/"
    },
    "executionInfo": {
     "elapsed": 75818,
     "status": "ok",
     "timestamp": 1669787944145,
     "user": {
      "displayName": "Jung Lee",
      "userId": "06037823346470885325"
     },
     "user_tz": -540
    },
    "id": "j1fUWyOR6oLW",
    "outputId": "3dde4c91-a4dd-4fdd-81a7-9eed479c879a"
   },
   "outputs": [],
   "source": [
    "#num은 각 이미지 당 몇 개로 증강시킬 것인지\n",
    "\n",
    "train_idx = 0\n",
    "num = 200\n",
    "val_idx = 8 * int(num * 0.8)\n",
    "\n",
    "startaug(image1, bboxes1, train_idx, val_idx, num)\n",
    "train_idx = train_idx + int(num * 0.8)\n",
    "val_idx = val_idx + int(num * 0.2)\n",
    "startaug(image2, bboxes2, train_idx, val_idx, num)\n",
    "train_idx = train_idx + int(num * 0.8)\n",
    "val_idx = val_idx + int(num * 0.2)\n",
    "startaug(image3, bboxes3, train_idx, val_idx, num)\n",
    "train_idx = train_idx + int(num * 0.8)\n",
    "val_idx = val_idx + int(num * 0.2)\n",
    "startaug(image4, bboxes4, train_idx, val_idx, num)\n",
    "train_idx = train_idx + int(num * 0.8)\n",
    "val_idx = val_idx + int(num * 0.2)\n",
    "startaug(image5, bboxes5, train_idx, val_idx, num)\n",
    "train_idx = train_idx + int(num * 0.8)\n",
    "val_idx = val_idx + int(num * 0.2)\n",
    "startaug(image6, bboxes6, train_idx, val_idx, num)\n",
    "train_idx = train_idx + int(num * 0.8)\n",
    "val_idx = val_idx + int(num * 0.2)\n",
    "startaug(image7, bboxes7, train_idx, val_idx, num)\n",
    "train_idx = train_idx + int(num * 0.8)\n",
    "val_idx = val_idx + int(num * 0.2)\n",
    "startaug(image8, bboxes8, train_idx, val_idx, num)"
   ]
  },
  {
   "cell_type": "code",
   "execution_count": null,
   "metadata": {
    "colab": {
     "base_uri": "https://localhost:8080/"
    },
    "executionInfo": {
     "elapsed": 183393,
     "status": "ok",
     "timestamp": 1669825766863,
     "user": {
      "displayName": "Jung Lee",
      "userId": "06037823346470885325"
     },
     "user_tz": -540
    },
    "id": "h_wnCebyxjpd",
    "outputId": "96ed05cf-783f-4c3c-affd-5afa5d02f66d"
   },
   "outputs": [],
   "source": [
    "#train 시작, 경로 수정 필요\n",
    "\n",
    "%cd /content/gdrive/MyDrive/yolov7\n",
    "#!torch.cuda.empty_cache() \n",
    "#!wget https://github.com/WongKinYiu/yolov7/releases/download/v0.1/yolov7_training.pt\n",
    "!python train.py --device 0 --batch 16 --epochs 25 --data data/custom.yaml --img 640 640 --cfg cfg/training/yolov7_custom.yaml --weights 'yolov7_training.pt'"
   ]
  },
  {
   "cell_type": "code",
   "execution_count": null,
   "metadata": {
    "colab": {
     "base_uri": "https://localhost:8080/"
    },
    "executionInfo": {
     "elapsed": 5462,
     "status": "ok",
     "timestamp": 1669825096022,
     "user": {
      "displayName": "Jung Lee",
      "userId": "06037823346470885325"
     },
     "user_tz": -540
    },
    "id": "cvreODTWCigt",
    "outputId": "88800956-889a-4bd4-fa1f-c4eff05503ad"
   },
   "outputs": [],
   "source": [
    "#동영상 객체 탐지\n",
    "\n",
    "%cd /content/gdrive/MyDrive/yolov7\n",
    "!python detect.py --weights runs/train/exp35/weights/best.pt --conf 0.6 --iou 0.6 --source test_new_cloth.mp4 --name new_cloth"
   ]
  }
 ],
 "metadata": {
  "accelerator": "GPU",
  "colab": {
   "authorship_tag": "ABX9TyOQvgOkiUImFBEUBppXHqTj",
   "machine_shape": "hm",
   "provenance": [
    {
     "file_id": "1FXyhDp_H9dsORDz8HUX_rTVxNRm5rrm8",
     "timestamp": 1669827049322
    }
   ]
  },
  "gpuClass": "standard",
  "kernelspec": {
   "display_name": "Python 3.8.3 32-bit",
   "language": "python",
   "name": "python3"
  },
  "language_info": {
   "codemirror_mode": {
    "name": "ipython",
    "version": 3
   },
   "file_extension": ".py",
   "mimetype": "text/x-python",
   "name": "python",
   "nbconvert_exporter": "python",
   "pygments_lexer": "ipython3",
   "version": "3.8.3"
  },
  "vscode": {
   "interpreter": {
    "hash": "b89e538c239f0fe9d7e71bce09c8a27359b4e7777369eb28b4fb936d142e831c"
   }
  }
 },
 "nbformat": 4,
 "nbformat_minor": 1
}
